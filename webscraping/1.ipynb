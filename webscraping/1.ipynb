{
 "cells": [
  {
   "cell_type": "markdown",
   "metadata": {},
   "source": [
    "# Requests, Beuatifulsoup 핵심 3가지\n",
    "1. [url -> html]: resp = requests.get(url, params=none)\n",
    "2. [html -> lxml]: soup = Beautifulsoup(resp.content,'lxml')\n",
    "3. [lxml query]: tag = soup.select('tag1.class tag2')   [ .text ]  [ .strip() ]\n",
    "- 원하는 태그를 불러온 후, .text나 .strip()을 적용 가능함"
   ]
  },
  {
   "cell_type": "code",
   "execution_count": 2,
   "metadata": {},
   "outputs": [],
   "source": [
    "# 필요 패키지\n",
    "import requests\n",
    "from bs4 import BeautifulSoup\n",
    "import pandas as pd\n",
    "from tqdm.notebook import tqdm"
   ]
  },
  {
   "cell_type": "code",
   "execution_count": 3,
   "metadata": {},
   "outputs": [],
   "source": [
    "url = 'https://www.naver.com/'\n",
    "# step 1: url -> HTML\n",
    "resp = requests.get(url) # HTML\n",
    "# step 2: HTML -> BeautifulSoup 형변환\n",
    "soup = BeautifulSoup(resp.content, 'lxml') # XML"
   ]
  },
  {
   "cell_type": "code",
   "execution_count": null,
   "metadata": {},
   "outputs": [],
   "source": [
    "# step 3: 원하는 태그 선택; soup.select(): 원하는 태그를 받아 \"리스트\"로 반환해주는 함수!!\n",
    "soup.select('원하는 태그') # tag-element list"
   ]
  },
  {
   "cell_type": "markdown",
   "metadata": {},
   "source": [
    "참조: css selector\n",
    "- css selector reference: https://www.w3schools.com/cssref/css_selectors.php\n",
    "- css tester 연습사이트: https://www.w3schools.com/cssref/trysel.php"
   ]
  },
  {
   "cell_type": "code",
   "execution_count": null,
   "metadata": {},
   "outputs": [],
   "source": [
    "# step 4: 태그에서 정보 파싱\n",
    "wanted_tag = soup.select('원하는 태그') # 원하는 tag-element가 리스트로 있는 형태\n",
    "wanted_tag[0].text \n",
    "# Beautifulsoup의 .text와 .string은 한 줄의 tag-element만을 입력받으므로\n",
    "# soup.select로 선택된 리스트에서 텍스트를 뽑아내려면 [0]과 같이 인덱싱을 통해 특정 행을 선택해주어야 함\n",
    "# 여러 개의 tag-element가 선택되었을 경우 [0] 인덱싱을 통해 구조를 파악하고,\n",
    "# for문, list comprehension을 통해 전체 행의 문자를 불러올 수 있다"
   ]
  },
  {
   "cell_type": "markdown",
   "metadata": {},
   "source": [
    "예제 1. soup.select 이용 parsing"
   ]
  },
  {
   "cell_type": "code",
   "execution_count": 7,
   "metadata": {},
   "outputs": [
    {
     "data": {
      "text/plain": [
       "'오송 참사날 \"날씨 완벽했다\"…싸이 \\'여수 흠뻑쇼\\' 후기 논란'"
      ]
     },
     "execution_count": 7,
     "metadata": {},
     "output_type": "execute_result"
    }
   ],
   "source": [
    "#예제\n",
    "url = \"https://search.naver.com/search.naver?where=news&sm=tab_jum&query=날씨\"\n",
    "# step 1: url -> HTML\n",
    "resp = requests.get(url) # HTML\n",
    "# step 2: HTML -> BeautifulSoup 형변환\n",
    "soup = BeautifulSoup(resp.content, 'lxml') # XML\n",
    "title_tag = soup.select('a.news_tit')\n",
    "title_tag[0].text"
   ]
  },
  {
   "cell_type": "code",
   "execution_count": 11,
   "metadata": {},
   "outputs": [
    {
     "data": {
      "text/plain": [
       "['오송 참사날 \"날씨 완벽했다\"…싸이 \\'여수 흠뻑쇼\\' 후기 논란',\n",
       " '[내일날씨] 19일도 강한비… 충청·남부 최대 200㎜',\n",
       " '오송 참사에 \"날씨 완벽했다\"…\\'흠뻑쇼\\' 싸이 또 구설']"
      ]
     },
     "execution_count": 11,
     "metadata": {},
     "output_type": "execute_result"
    }
   ],
   "source": [
    "# for loop 버전\n",
    "title = []\n",
    "for i in range(len(title_tag)):\n",
    "    title.append(title_tag[i].text)\n",
    "title\n",
    "\n",
    "# list comprehension 버전\n",
    "title = [title_tag[i].text for i in range(len(title_tag))]\n",
    "title[0:3]"
   ]
  },
  {
   "cell_type": "markdown",
   "metadata": {},
   "source": [
    "예제 1-1. 여러 변수는 dictionary, df 활용"
   ]
  },
  {
   "cell_type": "code",
   "execution_count": 3,
   "metadata": {},
   "outputs": [
    {
     "data": {
      "text/plain": [
       "<tr class=\"team\">\n",
       "<td class=\"name\">\n",
       "                            Boston Bruins\n",
       "                        </td>\n",
       "<td class=\"year\">\n",
       "                            1990\n",
       "                        </td>\n",
       "<td class=\"wins\">\n",
       "                            44\n",
       "                        </td>\n",
       "<td class=\"losses\">\n",
       "                            24\n",
       "                        </td>\n",
       "<td class=\"ot-losses\">\n",
       "</td>\n",
       "<td class=\"pct text-success\">\n",
       "                            0.55\n",
       "                        </td>\n",
       "<td class=\"gf\">\n",
       "                            299\n",
       "                        </td>\n",
       "<td class=\"ga\">\n",
       "                            264\n",
       "                        </td>\n",
       "<td class=\"diff text-success\">\n",
       "                            35\n",
       "                        </td>\n",
       "</tr>"
      ]
     },
     "execution_count": 3,
     "metadata": {},
     "output_type": "execute_result"
    }
   ],
   "source": [
    "# 여러 번수 가져오고 싶다면? dictionary 활용\n",
    "url = 'https://www.scrapethissite.com/pages/forms/?page_num=1&per_page=25'\n",
    "# team, win 변수 가져오기\n",
    "dic_hk = {'teams' : [], 'Wins' : [], }\n",
    "\n",
    "resp = requests.get(url)\n",
    "soup = BeautifulSoup(resp.content, 'lxml')\n",
    "soup.select('tr.team')[0] # td.name, td.wins를 가져오면 된다\n"
   ]
  },
  {
   "cell_type": "code",
   "execution_count": 4,
   "metadata": {},
   "outputs": [],
   "source": [
    "for row in soup.select('tr.team'):\n",
    "    dic_hk['teams'].append(row.select('td.name')[0].text.strip())\n",
    "    dic_hk['Wins'].append(row.select('td.wins')[0].text.strip())"
   ]
  },
  {
   "cell_type": "code",
   "execution_count": 11,
   "metadata": {},
   "outputs": [
    {
     "data": {
      "text/plain": [
       "(['Boston Bruins', 'Buffalo Sabres', 'Calgary Flames'], ['44', '31', '46'])"
      ]
     },
     "execution_count": 11,
     "metadata": {},
     "output_type": "execute_result"
    }
   ],
   "source": [
    "dic_hk['teams'][0:3], dic_hk['Wins'][0:3]"
   ]
  },
  {
   "cell_type": "code",
   "execution_count": 12,
   "metadata": {},
   "outputs": [
    {
     "data": {
      "text/html": [
       "<div>\n",
       "<style scoped>\n",
       "    .dataframe tbody tr th:only-of-type {\n",
       "        vertical-align: middle;\n",
       "    }\n",
       "\n",
       "    .dataframe tbody tr th {\n",
       "        vertical-align: top;\n",
       "    }\n",
       "\n",
       "    .dataframe thead th {\n",
       "        text-align: right;\n",
       "    }\n",
       "</style>\n",
       "<table border=\"1\" class=\"dataframe\">\n",
       "  <thead>\n",
       "    <tr style=\"text-align: right;\">\n",
       "      <th></th>\n",
       "      <th>teams</th>\n",
       "      <th>Wins</th>\n",
       "    </tr>\n",
       "  </thead>\n",
       "  <tbody>\n",
       "    <tr>\n",
       "      <th>0</th>\n",
       "      <td>Boston Bruins</td>\n",
       "      <td>44</td>\n",
       "    </tr>\n",
       "    <tr>\n",
       "      <th>1</th>\n",
       "      <td>Buffalo Sabres</td>\n",
       "      <td>31</td>\n",
       "    </tr>\n",
       "    <tr>\n",
       "      <th>2</th>\n",
       "      <td>Calgary Flames</td>\n",
       "      <td>46</td>\n",
       "    </tr>\n",
       "    <tr>\n",
       "      <th>3</th>\n",
       "      <td>Chicago Blackhawks</td>\n",
       "      <td>49</td>\n",
       "    </tr>\n",
       "    <tr>\n",
       "      <th>4</th>\n",
       "      <td>Detroit Red Wings</td>\n",
       "      <td>34</td>\n",
       "    </tr>\n",
       "  </tbody>\n",
       "</table>\n",
       "</div>"
      ],
      "text/plain": [
       "                teams Wins\n",
       "0       Boston Bruins   44\n",
       "1      Buffalo Sabres   31\n",
       "2      Calgary Flames   46\n",
       "3  Chicago Blackhawks   49\n",
       "4   Detroit Red Wings   34"
      ]
     },
     "execution_count": 12,
     "metadata": {},
     "output_type": "execute_result"
    }
   ],
   "source": [
    "pd.DataFrame(dic_hk).head()"
   ]
  },
  {
   "cell_type": "markdown",
   "metadata": {},
   "source": [
    "예제 2. img 긁어오기"
   ]
  },
  {
   "cell_type": "code",
   "execution_count": 17,
   "metadata": {},
   "outputs": [
    {
     "data": {
      "text/plain": [
       "(<img class=\"featured-box-img-cover\" src=\"https://static.coupangcdn.com/image/retail/images/2018/09/18/11/8/6964dd11-7ff2-448d-8462-db07e3ca2a5f.jpg\"/>,\n",
       " 'https://static.coupangcdn.com/image/retail/images/2018/09/18/11/8/6964dd11-7ff2-448d-8462-db07e3ca2a5f.jpg')"
      ]
     },
     "execution_count": 17,
     "metadata": {},
     "output_type": "execute_result"
    }
   ],
   "source": [
    "url = 'https://davelee-fun.github.io'\n",
    "req = requests.get(url)\n",
    "soup = BeautifulSoup(req.content, 'lxml')\n",
    "img_tag = soup.select('img.featured-box-img-cover')\n",
    "img_tag[0], img_tag[0]['src'] # img파일 주소"
   ]
  },
  {
   "cell_type": "code",
   "execution_count": 18,
   "metadata": {},
   "outputs": [],
   "source": [
    "# 방법 1. for loop\n",
    "src_list = []\n",
    "for s in soup.select('img.featured-box-img-cover'): \n",
    "# 여기서 s는 soup.select('img.featured-box-img-cover')[s] 임\n",
    "    src_list.append(s['src']) # soup.select('img.featured-box-img-cover')[s]['src'] : \n",
    "src_list\n",
    "# tag 사이의 content를 .text로 불러올 때와는 다르게 tag 내의 src 속성의 value를 가져와야 하므로\n",
    "# 원하는 attribute(여기서는 'src')로 한번 더 인덱싱해준다\n",
    "\n",
    "# 방법 2. list comprehension\n",
    "src_list = [s['src'] for s in soup.select('img.featured-box-img-cover')]"
   ]
  },
  {
   "cell_type": "code",
   "execution_count": null,
   "metadata": {},
   "outputs": [],
   "source": [
    "# 방법 1. for문으로 처리하기\n",
    "for idx, s in enumerate(src_list):\n",
    "    img_resp = requests.get(s)\n",
    "    file_name = f'./mattress/img_{idx}.jpg'\n",
    "    with open(file_name,'wb') as f: # write binary모드로 열기\n",
    "        f.write(img_resp.content) # src 내의 content 집어넣기"
   ]
  },
  {
   "cell_type": "markdown",
   "metadata": {},
   "source": [
    "file r/w"
   ]
  },
  {
   "cell_type": "code",
   "execution_count": null,
   "metadata": {},
   "outputs": [],
   "source": [
    "# open('파일경로','모드')\n",
    "# 모드를 'w'로 하면 파일이 새로 생성된다\n",
    "f = open('a.txt','w')"
   ]
  },
  {
   "cell_type": "code",
   "execution_count": null,
   "metadata": {},
   "outputs": [],
   "source": [
    "# with문을 쓰는 이유: with문이 끝나면 file이 자동으로 닫힘\n",
    "with open('b.txt','w') as f:\n",
    "    for i in range(10):\n",
    "        t = f'{i}번째\\n'\n",
    "        f.write(t)"
   ]
  }
 ],
 "metadata": {
  "kernelspec": {
   "display_name": "skkai",
   "language": "python",
   "name": "python3"
  },
  "language_info": {
   "codemirror_mode": {
    "name": "ipython",
    "version": 3
   },
   "file_extension": ".py",
   "mimetype": "text/x-python",
   "name": "python",
   "nbconvert_exporter": "python",
   "pygments_lexer": "ipython3",
   "version": "3.9.17"
  },
  "orig_nbformat": 4
 },
 "nbformat": 4,
 "nbformat_minor": 2
}
