{
 "cells": [
  {
   "cell_type": "markdown",
   "metadata": {},
   "source": [
    "# 가장 중요한 핵심 3가지\n",
    "1. [url -> html]: resp = requests.get(url)\n",
    "2. [html -> lxml]: soup = Beautifulsoup(resp.content,'lxml')\n",
    "3. [lxml query]: tag = soup.select('tag1.class tag2')   [ .text ]  [ .strip() ]\n",
    "- 원하는 태그를 불러온 후, .text나 .strip()을 적용 가능함"
   ]
  },
  {
   "cell_type": "markdown",
   "metadata": {},
   "source": []
  },
  {
   "cell_type": "markdown",
   "metadata": {},
   "source": []
  },
  {
   "cell_type": "code",
   "execution_count": null,
   "metadata": {},
   "outputs": [],
   "source": []
  }
 ],
 "metadata": {
  "language_info": {
   "name": "python"
  },
  "orig_nbformat": 4
 },
 "nbformat": 4,
 "nbformat_minor": 2
}
