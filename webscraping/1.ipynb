{
 "cells": [
  {
   "cell_type": "markdown",
   "metadata": {},
   "source": [
    "# 가장 중요한 핵심 3가지\n",
    "1. [url -> html]: resp = requests.get(url, params=none)\n",
    "2. [html -> lxml]: soup = Beautifulsoup(resp.content,'lxml')\n",
    "3. [lxml query]: tag = soup.select('tag1.class tag2')   [ .text ]  [ .strip() ]\n",
    "- 원하는 태그를 불러온 후, .text나 .strip()을 적용 가능함"
   ]
  },
  {
   "cell_type": "code",
   "execution_count": 1,
   "metadata": {},
   "outputs": [],
   "source": [
    "# 필요 패키지\n",
    "import requests\n",
    "from bs4 import BeautifulSoup\n",
    "import pandas as pd\n",
    "from tqdm.notebook import tqdm"
   ]
  },
  {
   "cell_type": "markdown",
   "metadata": {},
   "source": []
  },
  {
   "cell_type": "markdown",
   "metadata": {},
   "source": []
  },
  {
   "cell_type": "code",
   "execution_count": 2,
   "metadata": {},
   "outputs": [],
   "source": [
    "url = 'https://www.naver.com/'"
   ]
  },
  {
   "cell_type": "code",
   "execution_count": null,
   "metadata": {},
   "outputs": [],
   "source": [
    "# step 1: url -> HTML\n",
    "resp = requests.get(url)\n",
    "\n",
    "# step 2: HTML -> BeautifulSoup 형변환\n",
    "soup = BeautifulSoup(resp.content, 'lxml')"
   ]
  },
  {
   "cell_type": "code",
   "execution_count": null,
   "metadata": {},
   "outputs": [],
   "source": [
    "# step 3: 원하는 태그 선택; soup.select(): 원하는 태그를 받아 \"리스트\"로 반환해주는 함수!!\n",
    "soup.select('원하는 태그')"
   ]
  },
  {
   "cell_type": "code",
   "execution_count": null,
   "metadata": {},
   "outputs": [],
   "source": [
    "# step 4: 태그에서 정보 파싱\n",
    "wanted_tag = soup.select('원하는 태그')\n",
    "wanted_tag.text # 리스트에서 태그 내 텍스트를 문자열로 파싱"
   ]
  }
 ],
 "metadata": {
  "kernelspec": {
   "display_name": "skkai",
   "language": "python",
   "name": "python3"
  },
  "language_info": {
   "codemirror_mode": {
    "name": "ipython",
    "version": 3
   },
   "file_extension": ".py",
   "mimetype": "text/x-python",
   "name": "python",
   "nbconvert_exporter": "python",
   "pygments_lexer": "ipython3",
   "version": "3.11.0"
  },
  "orig_nbformat": 4
 },
 "nbformat": 4,
 "nbformat_minor": 2
}
