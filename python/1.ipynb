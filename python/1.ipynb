{
 "cells": [
  {
   "cell_type": "markdown",
   "metadata": {},
   "source": [
    "# Enumerate\n",
    "- 리스트나 df의 값만 필요할 경우 for i in list를 쓰지만,\n",
    "- 리스트나 df의 값과 인덱스가 필요할 경우 enumerate를 쓰면 편하다.\n",
    "- 코딩도장: https://dojang.io/mod/page/view.php?id=2283\n",
    "- https://dojang.io/mod/page/view.php?id=1320\n",
    "- py doc: https://docs.python.org/3/library/functions.html#enumerate"
   ]
  },
  {
   "cell_type": "code",
   "execution_count": 1,
   "metadata": {},
   "outputs": [],
   "source": [
    "import pandas as pd\n",
    "from tqdm.notebook import tqdm\n",
    "import requests\n",
    "from bs4 import BeautifulSoup"
   ]
  },
  {
   "cell_type": "code",
   "execution_count": 2,
   "metadata": {},
   "outputs": [],
   "source": [
    "# 사전 scraping\n",
    "url = 'https://davelee-fun.github.io/' \n",
    "resp = requests.get(url) # url -> html\n",
    "soup = BeautifulSoup(resp.content, 'lxml') # html -> lxml\n",
    "img_tag = soup.select('img.featured-box-img-cover') # lxml -> tag element\n",
    "src_list = [s['src'] for s in soup.select('img.featured-box-img-cover')]"
   ]
  },
  {
   "cell_type": "code",
   "execution_count": 4,
   "metadata": {},
   "outputs": [
    {
     "data": {
      "text/plain": [
       "['https://static.coupangcdn.com/image/retail/images/2018/09/18/11/8/6964dd11-7ff2-448d-8462-db07e3ca2a5f.jpg',\n",
       " 'https://static.coupangcdn.com/image/retail/images/2017/05/15/16/3/cd40fc67-e838-4f5d-b90a-45b0f0336729.jpg',\n",
       " 'https://static.coupangcdn.com/image/product/image/vendoritem/2015/10/16/3000156691/82761df2-59fb-4970-a67e-cea8bfcd8cac.jpg']"
      ]
     },
     "execution_count": 4,
     "metadata": {},
     "output_type": "execute_result"
    }
   ],
   "source": [
    "src_list[0:3]"
   ]
  },
  {
   "cell_type": "code",
   "execution_count": null,
   "metadata": {},
   "outputs": [],
   "source": [
    "for idx, s in enumerate(src_list): # index와 row를 (idx,s)의 튜플로 불러와서,\n",
    "    img_resp = requests.get(s) # s의 주소를 갖는 페이지의 html을 가져와서,\n",
    "    file_name = f'./mattress/img_{idx}.jpg' # 파일 이름을 index 번호를 넣어 만들고, \n",
    "    with open(file_name,'wb') as f: # 정한 파일이름을 가진 jpg파일을 생성한 후,\n",
    "        f.write(img_resp.content) # 파일에 html content를 기록한 후 (with문 썼으므로)닫는다"
   ]
  },
  {
   "cell_type": "markdown",
   "metadata": {},
   "source": [
    "# 딕셔너리"
   ]
  },
  {
   "cell_type": "markdown",
   "metadata": {},
   "source": [
    "dict[key] = value: 키 값 쌍을 추가할 때 사용"
   ]
  },
  {
   "cell_type": "markdown",
   "metadata": {},
   "source": [
    "dict[kty].append(value): 딕셔너리의 특정 key에 value를 추가하고 싶을 때 사용"
   ]
  },
  {
   "cell_type": "markdown",
   "metadata": {},
   "source": [
    "### 예제: 모스부호\n",
    "머쓱이는 친구에게 모스부호를 이용한 편지를 받았습니다. 그냥은 읽을 수 없어 이를 해독하는 프로그램을 만들려고 합니다. 문자열 letter가 매개변수로 주어질 때, letter를 영어 소문자로 바꾼 문자열을 return 하도록 solution 함수를 완성해보세요.\n",
    "모스부호는 다음과 같습니다.\n",
    "- 출처: https://school.programmers.co.kr/learn/courses/30/lessons/120838"
   ]
  },
  {
   "cell_type": "code",
   "execution_count": null,
   "metadata": {},
   "outputs": [],
   "source": [
    "morse = {\n",
    "    '.-':'a','-...':'b','-.-.':'c','-..':'d','.':'e','..-.':'f',\n",
    "    '--.':'g','....':'h','..':'i','.---':'j','-.-':'k','.-..':'l',\n",
    "    '--':'m','-.':'n','---':'o','.--.':'p','--.-':'q','.-.':'r',\n",
    "    '...':'s','-':'t','..-':'u','...-':'v','.--':'w','-..-':'x',\n",
    "    '-.--':'y','--..':'z'\n",
    "}"
   ]
  },
  {
   "cell_type": "markdown",
   "metadata": {},
   "source": [
    "제한사항\n",
    "- 1 ≤ letter의 길이 ≤ 1,000\n",
    "- return값은 소문자입니다.\n",
    "- letter의 모스부호는 공백으로 나누어져 있습니다.\n",
    "- letter에 공백은 연속으로 두 개 이상 존재하지 않습니다.\n",
    "- 해독할 수 없는 편지는 주어지지 않습니다.\n",
    "- 편지의 시작과 끝에는 공백이 없습니다."
   ]
  },
  {
   "cell_type": "markdown",
   "metadata": {},
   "source": [
    "![image.png](data:image/png;base64,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)"
   ]
  },
  {
   "cell_type": "code",
   "execution_count": null,
   "metadata": {},
   "outputs": [],
   "source": [
    "def solution(letter):\n",
    "    answer = ''\n",
    "\n",
    "    morse = {\n",
    "        '.-':'a','-...':'b','-.-.':'c','-..':'d','.':'e','..-.':'f',\n",
    "        '--.':'g','....':'h','..':'i','.---':'j','-.-':'k','.-..':'l',\n",
    "        '--':'m','-.':'n','---':'o','.--.':'p','--.-':'q','.-.':'r',\n",
    "        '...':'s','-':'t','..-':'u','...-':'v','.--':'w','-..-':'x',\n",
    "        '-.--':'y','--..':'z'\n",
    "    }\n",
    "\n",
    "    letter_ls = letter.split()\n",
    "    for l in letter_ls:\n",
    "        answer += morse[l]\n",
    "\n",
    "    return answer"
   ]
  },
  {
   "cell_type": "code",
   "execution_count": null,
   "metadata": {},
   "outputs": [],
   "source": [
    "solution(\".... . .-.. .-.. ---\")"
   ]
  },
  {
   "cell_type": "code",
   "execution_count": null,
   "metadata": {},
   "outputs": [],
   "source": [
    "solution(\".--. -.-- - .... --- -.\")"
   ]
  }
 ],
 "metadata": {
  "kernelspec": {
   "display_name": "skkai",
   "language": "python",
   "name": "python3"
  },
  "language_info": {
   "codemirror_mode": {
    "name": "ipython",
    "version": 3
   },
   "file_extension": ".py",
   "mimetype": "text/x-python",
   "name": "python",
   "nbconvert_exporter": "python",
   "pygments_lexer": "ipython3",
   "version": "3.11.0"
  },
  "orig_nbformat": 4
 },
 "nbformat": 4,
 "nbformat_minor": 2
}
