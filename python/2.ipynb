{
 "cells": [
  {
   "cell_type": "markdown",
   "metadata": {},
   "source": [
    "1. 자료구조(list, tuple, dict, set)(insert, append, extend, pop, )\n",
    "2. 제어문(loop, for, try)\n",
    "3. 함수(def, lambda)"
   ]
  }
 ],
 "metadata": {
  "language_info": {
   "name": "python"
  },
  "orig_nbformat": 4
 },
 "nbformat": 4,
 "nbformat_minor": 2
}
